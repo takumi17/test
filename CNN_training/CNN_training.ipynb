{
 "cells": [
  {
   "cell_type": "code",
   "execution_count": 2,
   "metadata": {},
   "outputs": [],
   "source": [
    "\n",
    "def convolution(image, filt, bias, s=1):\n",
    "    '''\n",
    "    Confolves `filt` over `image` using stride `s`\n",
    "    '''\n",
    "    (n_f, n_c_f, f, _) = filt.shape # filter dimensions\n",
    "    n_c, in_dim, _ = image.shape # image dimensions\n",
    "    \n",
    "    out_dim = int((in_dim - f)/s)+1 # calculate output dimensions\n",
    "    \n",
    "    assert n_c == n_c_f, \"Dimensions of filter must match dimensions of input image\"\n",
    "    \n",
    "    out = np.zeros((n_f,out_dim,out_dim))\n",
    "    \n",
    "    # convolve the filter over every part of the image, adding the bias at each step. \n",
    "    for curr_f in range(n_f):\n",
    "        curr_y = out_y = 0\n",
    "        while curr_y + f <= in_dim:\n",
    "            curr_x = out_x = 0\n",
    "            while curr_x + f <= in_dim:\n",
    "                out[curr_f, out_y, out_x] = np.sum(filt[curr_f] * image[:,curr_y:curr_y+f, curr_x:curr_x+f]) + bias[curr_f]\n",
    "                curr_x += s\n",
    "                out_x += 1\n",
    "            curr_y += s\n",
    "            out_y += 1\n",
    "        \n",
    "    return out\n",
    "\n",
    "def maxpool(image, f=2, s=2):\n",
    "    '''\n",
    "    Downsample `image` using kernel size `f` and stride `s`\n",
    "    '''\n",
    "    n_c, h_prev, w_prev = image.shape\n",
    "    \n",
    "    h = int((h_prev - f)/s)+1\n",
    "    w = int((w_prev - f)/s)+1\n",
    "    \n",
    "    downsampled = np.zeros((n_c, h, w))\n",
    "    for i in range(n_c):\n",
    "        # slide maxpool window over each part of the image and assign the max value at each step to the output\n",
    "        curr_y = out_y = 0\n",
    "        while curr_y + f <= h_prev:\n",
    "            curr_x = out_x = 0\n",
    "            while curr_x + f <= w_prev:\n",
    "                downsampled[i, out_y, out_x] = np.max(image[i, curr_y:curr_y+f, curr_x:curr_x+f])\n",
    "                curr_x += s\n",
    "                out_x += 1\n",
    "            curr_y += s\n",
    "            out_y += 1\n",
    "    return downsampled\n",
    "\n",
    "def softmax(X):\n",
    "    out = np.exp(X)\n",
    "    return out/np.sum(out)\n",
    "\n",
    "def categoricalCrossEntropy(probs, label):\n",
    "    return -np.sum(label * np.log(probs))"
   ]
  },
  {
   "cell_type": "code",
   "execution_count": null,
   "metadata": {},
   "outputs": [],
   "source": []
  }
 ],
 "metadata": {
  "kernelspec": {
   "display_name": "Python 3",
   "language": "python",
   "name": "python3"
  },
  "language_info": {
   "codemirror_mode": {
    "name": "ipython",
    "version": 3
   },
   "file_extension": ".py",
   "mimetype": "text/x-python",
   "name": "python",
   "nbconvert_exporter": "python",
   "pygments_lexer": "ipython3",
   "version": "3.12.2"
  }
 },
 "nbformat": 4,
 "nbformat_minor": 2
}
