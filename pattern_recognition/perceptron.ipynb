{
 "cells": [
  {
   "cell_type": "markdown",
   "metadata": {},
   "source": [
    "# 演習問題3.3"
   ]
  },
  {
   "cell_type": "code",
   "execution_count": 1,
   "metadata": {},
   "outputs": [
    {
     "name": "stdout",
     "output_type": "stream",
     "text": [
      "Weight vector:\n",
      "[  81.  198.  196.  342.  410.  370.  416. -686. -174.   28.]\n"
     ]
    },
    {
     "data": {
      "image/png": "[encoded data removed]",
      "text/plain": [
       "<Figure size 800x600 with 1 Axes>"
      ]
     },
     "metadata": {},
     "output_type": "display_data"
    }
   ],
   "source": [
    "import numpy as np\n",
    "import matplotlib.pyplot as plt\n",
    "\n",
    "# 学習パターンとクラスの定義\n",
    "patterns = np.array([[1, 5],\n",
    "                    [3, 2],\n",
    "                    [4, 3],\n",
    "                    [5, 6],\n",
    "                    [2, 4],\n",
    "                    [6, 1]])\n",
    "\n",
    "classes = np.array([1, 1, 1, -1, -1, -1])\n",
    "\n",
    "# 特徴空間への写像関数 Φ(x)\n",
    "def map_features(x):\n",
    "    x1 = x[0]\n",
    "    x2 = x[1]\n",
    "    return np.array([1, x1, x2, x1*x2, x1**2, x2**2, x1**2*x2, x1*x2**2, x1**3, x2**3])\n",
    "\n",
    "# 重みベクトルの初期化\n",
    "w = np.zeros(10)\n",
    "\n",
    "# 学習係数\n",
    "ρ = 1\n",
    "\n",
    "# 収束条件\n",
    "max_iterations = 100\n",
    "converged = False\n",
    "\n",
    "# 基本パーセプトロンの学習規則\n",
    "for _ in range(max_iterations):\n",
    "    for i in range(len(patterns)):\n",
    "        x = map_features(patterns[i])\n",
    "        b = classes[i]\n",
    "\n",
    "        if np.dot(w, x) * b <= 0:\n",
    "            w = w + ρ * b * x\n",
    "            converged = False\n",
    "\n",
    "    if converged:\n",
    "        break\n",
    "    else:\n",
    "        converged = True\n",
    "\n",
    "# 求めた重みベクトルを表示\n",
    "print(\"Weight vector:\")\n",
    "print(w)\n",
    "\n",
    "# 決定境界の図示\n",
    "x1 = np.linspace(-2, 8, 100)\n",
    "x2 = np.linspace(-2, 8, 100)\n",
    "X1, X2 = np.meshgrid(x1, x2)\n",
    "X = np.c_[X1.ravel(), X2.ravel()]\n",
    "Z = np.dot(np.apply_along_axis(map_features, 1, X), w)\n",
    "Z = np.sign(Z).reshape(X1.shape)\n",
    "\n",
    "plt.figure(figsize=(8, 6))\n",
    "plt.contourf(X1, X2, Z, levels=1, alpha=0.3, colors=['blue', 'red'])\n",
    "plt.scatter(patterns[:, 0], patterns[:, 1], c=classes, cmap='bwr')\n",
    "plt.xlabel('x1')\n",
    "plt.ylabel('x2')\n",
    "plt.title('Decision Boundary')\n",
    "plt.show()"
   ]
  },
  {
   "cell_type": "markdown",
   "metadata": {},
   "source": [
    "###ChatGPTの解説\n",
    "\n",
    "- 基本パーセプトロンは次の手順で行われています\n",
    "\n",
    "1. patternsとclassesには学習パターンとそれに対応するクラスラベルが与えられています.\n",
    "2. map_features関数は, 2次元の学習パターンを $10$ 次元の特徴空間に写像するための関数です. 写像後の特徴ベクトルを返します.\n",
    "3. 重みベクトルwは $10$ 次元の特徴空間の次元に対応する重みを持つ初期化されたベクトルです.\n",
    "4. 学習係数 $ρ$ は $1$ に設定されています.\n",
    "5. 収束条件は, 最大反復回数max_iterationsが $1000$ 回とし, 重みベクトルが更新されなくなった時に収束したとみなします.\n",
    "6. 基本パーセプトロンの学習規則を適用して, 重みベクトルを更新しています.\n",
    "7. 学習データの特徴ベクトル $x$ とクラスラベル $b$ を用いて, 重みベクトルを更新します.\n",
    "学習が収束した場合には, 収束フラグconvergedをTrueにしてループを終了します.\n",
    "8. 求めた重みベクトル $w$ を表示しています.\n",
    "\n",
    "\n",
    "- 決定境界の図示は次の手順で行われています\n",
    "\n",
    "1. 2次元の特徴空間の $x_{1}$ と $x_{2}$ の値を $-2$ から $8$ まで $100$ 等分した点を生成しています.\n",
    "2. $X_{1}$ と $X_{2}$ はこれらの点から作成された格子状の座標行列です.\n",
    "3. 特徴空間に写像された点 $X$ を計算して, 重みベクトル $w$ との内積を取り, 予測クラスを求めています.\n",
    "4. 得られた予測クラスを $1$ か $-1$ に変換して, $2$ 次元の座標行列 $Z$ に変形しています。\n",
    "5. plt.contourfを使って, 決定境界を等高線プロットしています. 学習パターンはplt.scatterを使ってプロットしています."
   ]
  },
  {
   "cell_type": "code",
   "execution_count": null,
   "metadata": {},
   "outputs": [],
   "source": []
  }
 ],
 "metadata": {
  "kernelspec": {
   "display_name": "Python 3",
   "language": "python",
   "name": "python3"
  },
  "language_info": {
   "codemirror_mode": {
    "name": "ipython",
    "version": 3
   },
   "file_extension": ".py",
   "mimetype": "text/x-python",
   "name": "python",
   "nbconvert_exporter": "python",
   "pygments_lexer": "ipython3",
   "version": "3.12.2"
  }
 },
 "nbformat": 4,
 "nbformat_minor": 2
}
